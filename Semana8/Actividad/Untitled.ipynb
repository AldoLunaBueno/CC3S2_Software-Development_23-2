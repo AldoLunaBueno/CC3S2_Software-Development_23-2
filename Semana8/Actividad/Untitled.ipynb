{
 "cells": [
  {
   "cell_type": "code",
   "execution_count": 1,
   "id": "12aa6241-538a-4c6d-a469-93b8e5bba5b4",
   "metadata": {},
   "outputs": [
    {
     "ename": "SyntaxError",
     "evalue": "Unexpected identifier",
     "execution_count": 1,
     "output_type": "error",
     "traceback": [
      "evalmachine.<anonymous>:1",
      "def greatestNumber(array):",
      "    ^^^^^^^^^^^^^^",
      "",
      "SyntaxError: Unexpected identifier",
      "    at new Script (node:vm:100:7)",
      "    at createScript (node:vm:259:10)",
      "    at Object.runInThisContext (node:vm:307:10)",
      "    at run ([eval]:1020:15)",
      "    at onRunRequest ([eval]:864:18)",
      "    at onMessage ([eval]:828:13)",
      "    at process.emit (node:events:513:28)",
      "    at emit (node:internal/child_process:937:14)",
      "    at process.processTicksAndRejections (node:internal/process/task_queues:83:21)"
     ]
    }
   ],
   "source": [
    "def greatestNumber(array):\n",
    "   for i in array:\n",
    "     isIValTheGreatest = True\n",
    "     for j in array:\n",
    "      if j > i:\n",
    "         isIValTheGreatest = False\n",
    "    if isIValTheGreatest:\n",
    "      return i"
   ]
  },
  {
   "cell_type": "code",
   "execution_count": 3,
   "id": "58da2a33-11fa-4958-ae93-955844e223ff",
   "metadata": {},
   "outputs": [
    {
     "name": "stdout",
     "output_type": "stream",
     "text": [
      "string\n"
     ]
    }
   ],
   "source": [
    "console.log(typeof \"Linda\")"
   ]
  },
  {
   "cell_type": "markdown",
   "id": "d9fbd563-d64a-4bab-a2dc-a874298513e6",
   "metadata": {},
   "source": [
    "La siguiente función devuelve si hay o no una “X” mayúscula dentro de una cadena."
   ]
  },
  {
   "cell_type": "code",
   "execution_count": 6,
   "id": "9300f143-549a-46d4-a1a9-479086604994",
   "metadata": {},
   "outputs": [
    {
     "ename": "SyntaxError",
     "evalue": "Unexpected token '%'",
     "execution_count": 6,
     "output_type": "error",
     "traceback": [
      "evalmachine.<anonymous>:1",
      "%%js",
      "^",
      "",
      "SyntaxError: Unexpected token '%'",
      "    at new Script (node:vm:100:7)",
      "    at createScript (node:vm:259:10)",
      "    at Object.runInThisContext (node:vm:307:10)",
      "    at run ([eval]:1020:15)",
      "    at onRunRequest ([eval]:864:18)",
      "    at onMessage ([eval]:828:13)",
      "    at process.emit (node:events:513:28)",
      "    at emit (node:internal/child_process:937:14)",
      "    at process.processTicksAndRejections (node:internal/process/task_queues:83:21)"
     ]
    }
   ],
   "source": [
    "%%javascript\n",
    "function containsX(string) {\n",
    "  foundX = false;\n",
    "  for(let i = 0; i < string.length; i++) {\n",
    "   if (string[i] === \"X\") {\n",
    "     foundX = true;\n",
    "     }\n",
    "   }\n",
    "   return foundX;\n",
    "  }"
   ]
  },
  {
   "cell_type": "code",
   "execution_count": 5,
   "id": "6d4d6640-e3ab-417a-afe2-cde44faf236f",
   "metadata": {},
   "outputs": [
    {
     "data": {
      "text/plain": [
       "true"
      ]
     },
     "execution_count": 5,
     "metadata": {},
     "output_type": "execute_result"
    }
   ],
   "source": [
    "containsX(\"Hola, X\")"
   ]
  },
  {
   "cell_type": "code",
   "execution_count": null,
   "id": "37759fab-b38f-4b56-a8e5-297a0933da98",
   "metadata": {},
   "outputs": [],
   "source": []
  }
 ],
 "metadata": {
  "kernelspec": {
   "display_name": "JavaScript (Node.js)",
   "language": "javascript",
   "name": "javascript"
  },
  "language_info": {
   "file_extension": ".js",
   "mimetype": "application/javascript",
   "name": "javascript",
   "version": "18.14.0"
  }
 },
 "nbformat": 4,
 "nbformat_minor": 5
}
